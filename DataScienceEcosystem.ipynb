{
 "cells": [
  {
   "cell_type": "markdown",
   "id": "f4e844f6-5ba1-48ec-bb81-90c90f0de4b2",
   "metadata": {},
   "source": [
    "# Data Science Tools and Ecosystem"
   ]
  },
  {
   "cell_type": "markdown",
   "id": "b3225c4a-0030-41e6-81d3-dc6f2aa9b1a2",
   "metadata": {},
   "source": [
    "#### This notebook lists commonly used Data Science Tools and Ecosystems."
   ]
  },
  {
   "cell_type": "markdown",
   "id": "a21b769f-a815-435e-a6ad-3b051aa628e8",
   "metadata": {},
   "source": [
    "__Objectives__\n",
    "* A list of popular languages in DataScience\n",
    "* A list of commonly used Data Science libraries\n",
    "* A table list of popular Integrated Development Environments\n",
    "* Examples of arithmetic expressions in Python"
   ]
  },
  {
   "cell_type": "markdown",
   "id": "f4159942-ec1f-448c-8e33-7e703ddbea8e",
   "metadata": {},
   "source": [
    "##### Some of the popular languages that Data Scientists use are:\n",
    "\n",
    "1. Python\n",
    "2. R Lang\n",
    "3. Scala\n",
    "4. Julia\n",
    "5. SQL"
   ]
  },
  {
   "cell_type": "markdown",
   "id": "957a1107-6bf0-4b29-813d-1691794760ff",
   "metadata": {},
   "source": [
    "##### Some of the commonly used libraries used by Data Scientists include:\n",
    "1. NumPy\n",
    "2. Pandas\n",
    "3. Matplotlib\n",
    "4. Tensorflow\n",
    "5. Scikit-learn\n"
   ]
  },
  {
   "cell_type": "markdown",
   "id": "b82d45f3-321a-4a9f-b4fd-67c16f968c84",
   "metadata": {},
   "source": [
    "#### Integrated Development Environmments\n",
    "\n",
    "| Data Science Tools|\n",
    "|------------------|\n",
    "| VS Code |\n",
    "| Jupyter Notebooks |\n",
    "| R Studio |\n"
   ]
  },
  {
   "cell_type": "markdown",
   "id": "236975f7-2223-4131-9c85-b3e5985a1f18",
   "metadata": {},
   "source": [
    "### Below are a few examples of evaluating arithmetic expressions in Python"
   ]
  },
  {
   "cell_type": "code",
   "execution_count": 25,
   "id": "97b0a4f5-bb0e-4247-8ec4-c6c8b5646618",
   "metadata": {},
   "outputs": [
    {
     "name": "stdout",
     "output_type": "stream",
     "text": [
      "sum: 49\n",
      "subtraction: 35\n",
      "multiplication: 45\n",
      "division: 5.0\n",
      "expressions: 4048\n",
      "exponents: 27\n",
      "floor Division: 5\n",
      "modulus: 0\n"
     ]
    }
   ],
   "source": [
    "sum = 26 + 23\n",
    "subtraction = 102 - 67\n",
    "multiplication = 5 * 9\n",
    "division = 120 / 24\n",
    "expressions = (15 + 31) * (109 - 21)\n",
    "exponents = 3 ** 3\n",
    "floor = 30 // 6\n",
    "modulus = 10 % 5\n",
    "\n",
    "print(\"sum:\", sum)\n",
    "print(\"subtraction:\", subtraction)\n",
    "print(\"multiplication:\", multiplication)\n",
    "print(\"division:\", division)\n",
    "print(\"expressions:\", expressions)\n",
    "print(\"exponents:\", exponents)\n",
    "print(\"floor Division:\", floor)\n",
    "print(\"modulus:\", modulus)\n"
   ]
  },
  {
   "cell_type": "code",
   "execution_count": 27,
   "id": "4c57f644-7ce4-423a-9236-d5d7470630ac",
   "metadata": {},
   "outputs": [
    {
     "data": {
      "text/plain": [
       "17"
      ]
     },
     "execution_count": 27,
     "metadata": {},
     "output_type": "execute_result"
    }
   ],
   "source": [
    "# This a simple arithmetic expression to mutiply then add integers\n",
    "(3 * 4) + 5"
   ]
  },
  {
   "cell_type": "code",
   "execution_count": 29,
   "id": "89b42aeb-773a-4fc1-8072-d335fd75083f",
   "metadata": {},
   "outputs": [
    {
     "name": "stdout",
     "output_type": "stream",
     "text": [
      "hours in 200 minutes: 3.3333333333333335\n"
     ]
    }
   ],
   "source": [
    "# This will convert 200 minutes to hours by diving by 60\n",
    "minutes = 200\n",
    "min_per_hour = 60\n",
    "hours = minutes / min_per_hour\n",
    "print(\"hours in 200 minutes:\", hours)"
   ]
  },
  {
   "cell_type": "markdown",
   "id": "35d52966-dce4-46ec-a9fa-d7ab22270201",
   "metadata": {},
   "source": [
    "## Author\n",
    "Héctor Manuel García Salas"
   ]
  },
  {
   "cell_type": "code",
   "execution_count": null,
   "id": "ec5d2e5f-319e-4a90-b61d-ef16bf1de74d",
   "metadata": {},
   "outputs": [],
   "source": []
  }
 ],
 "metadata": {
  "kernelspec": {
   "display_name": "Python 3 (ipykernel)",
   "language": "python",
   "name": "python3"
  },
  "language_info": {
   "codemirror_mode": {
    "name": "ipython",
    "version": 3
   },
   "file_extension": ".py",
   "mimetype": "text/x-python",
   "name": "python",
   "nbconvert_exporter": "python",
   "pygments_lexer": "ipython3",
   "version": "3.12.4"
  }
 },
 "nbformat": 4,
 "nbformat_minor": 5
}
